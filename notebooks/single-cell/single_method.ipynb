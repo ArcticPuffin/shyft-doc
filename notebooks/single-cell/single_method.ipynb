{
 "cells": [
  {
   "cell_type": "markdown",
   "metadata": {},
   "source": [
    "## Running a single method\n",
    "\n",
    "### Introduction\n",
    "Shyft provides a toolbox for running hydrologic simulations. As it was designed to work in an operational environment, we've provided several different mechanisms for running the models. The main concept to be aware of is that while we demonstrate and build on the use of a 'configuration', nearly all simulation functionality is also accessible with pure python. It is recommended, if you intend to use Shyft for any kind of hydrologic exploration, to become familiar with the API functionality.\n",
    "\n",
    "In this python notebook, you will lear how to use the SHyFT API to directly access single methods used in model stacks, and run them without running a complete model stack and without using any 'configuration' layer. This is a need functionality since it allows to use certain model routines as point model (e.g. for comparison of model results with point observations), conducting sensitivity studies and investigating the details of a certain routine.\n",
    "\n",
    "#### To achive this, we will\n",
    "#### 1. create a synthetic data set which we will use to run the model\n",
    "#### 2. convert the input data to shyft-conform data-types by using Shyft's API functionality\n",
    "#### 3. run a certain routine using the SHyFT API (we will use the HBV snow routine as an example)\n",
    "#### 4. change the default parameters and initial state"
   ]
  },
  {
   "cell_type": "code",
   "execution_count": null,
   "metadata": {
    "collapsed": false
   },
   "outputs": [],
   "source": [
    "# Pure python modules and jupyter notebook functionality\n",
    "# first you should import the third-party python modules which you'll use later on\n",
    "# the first line enables that figures are shown inline, directly in the notebook\n",
    "%pylab inline\n",
    "import os\n",
    "import sys\n",
    "import numpy as np\n",
    "import pandas as pd\n",
    "from matplotlib import pyplot as plt"
   ]
  },
  {
   "cell_type": "code",
   "execution_count": null,
   "metadata": {
    "collapsed": true
   },
   "outputs": [],
   "source": [
    "# now we create the shyft specific environment\n",
    "# set the path for your shyft build\n",
    "# this should point to the directory that is created\n",
    "# when you clone shyft, assuming you have built shyft\n",
    "# there and not installed it to your system python\n",
    "# if you followed the recommendations in the README, then\n",
    "# you will have cloned three git repos in a parallel structure\n",
    "# and can point to the shyft repository:\n",
    "shyft_path = os.path.abspath(\"../../../shyft\")\n",
    "sys.path.insert(0, shyft_path)\n",
    "\n",
    "# Note: you could achieve the same by setting a PYTHONPATH"
   ]
  },
  {
   "cell_type": "code",
   "execution_count": null,
   "metadata": {
    "collapsed": true
   },
   "outputs": [],
   "source": [
    "# once the shyft_path is set correctly, you should be able to import shyft modules, e.g. the shyft API\n",
    "from shyft import api"
   ]
  },
  {
   "cell_type": "markdown",
   "metadata": {},
   "source": [
    "### 1. Synthetic forcing data set"
   ]
  },
  {
   "cell_type": "code",
   "execution_count": null,
   "metadata": {
    "collapsed": false
   },
   "outputs": [],
   "source": [
    "n = 365 # nr of time steps: 1 year, daily data\n",
    "precip_bool = [0 if r <0.7 else 1 for r in np.random.rand(n)]\n",
    "precip = [i*j*15 for i,j in zip(np.random.rand(n),precip_bool)] # precip [mm/day]\n",
    "temp_noise = (np.random.rand(n)-0.5) * 15\n",
    "temp = 10 * np.sin(-np.arange(n)*2*np.pi/n) + temp_noise # temperatur [deg C]\n",
    "day = np.arange(n) # day of water year"
   ]
  },
  {
   "cell_type": "code",
   "execution_count": null,
   "metadata": {
    "collapsed": false
   },
   "outputs": [],
   "source": [
    "# Let's have a look to the synthetic forcing data by plotting it\n",
    "fig, ax1 = plt.subplots(figsize=(10,5))\n",
    "ax2 = ax1.twinx()\n",
    "ax1.plot(day,precip, label='precip')\n",
    "ax2.plot(day, temp, c='r', lw=2, label='temp')\n",
    "ax1.set_ylabel('daily precip [mm/h]')\n",
    "ax2.set_ylabel('temp [$°$ C]')\n",
    "ax1.set_xlabel('day of water year')\n",
    "ax1.legend(loc=2); ax2.legend(loc=1)\n"
   ]
  },
  {
   "cell_type": "markdown",
   "metadata": {},
   "source": [
    "### 2. Convert input data to shyft-conform data-types by using api functionality"
   ]
  },
  {
   "cell_type": "code",
   "execution_count": null,
   "metadata": {
    "collapsed": false
   },
   "outputs": [],
   "source": [
    "# Every routine (e.g. for computing the snowpack, evapotranspiration, discharge response, ...)\n",
    "# has a \"Calculator\" class, here shown for the HbvSnow routine:\n",
    "type(api.HbvSnowCalculator)"
   ]
  },
  {
   "cell_type": "code",
   "execution_count": null,
   "metadata": {
    "collapsed": true
   },
   "outputs": [],
   "source": [
    "# Let's print some information about the calculator class\n",
    "api.HbvSnowCalculator?"
   ]
  },
  {
   "cell_type": "code",
   "execution_count": null,
   "metadata": {
    "collapsed": false
   },
   "outputs": [],
   "source": [
    "# Using tab-completion, we can check out the methods the calculator-class is providing\n",
    "# Try it out by typing \"api.HbvSnowCalculator.\" and press the \"tab\" key on your keyboard:\n",
    "api.HbvSnowCalculator."
   ]
  },
  {
   "cell_type": "code",
   "execution_count": null,
   "metadata": {
    "collapsed": true
   },
   "outputs": [],
   "source": [
    "# Obviously, there is a method called \"step\".\n",
    "# This method can be used to do the time stepping. E.g. if we have a certain model state s0 at time t0,\n",
    "# the step function calculates the model state s1 at time t0+dt, where dt is the time step in seconds.\n",
    "\n",
    "# The Calculator classes of all routines have a similar method.\n",
    "# In most cases this method is called \"step\", such as here.\n",
    "# Let's check out the details of the \"step\" method in more detail:\n",
    "api.HbvSnowCalculator.step?\n"
   ]
  },
  {
   "cell_type": "code",
   "execution_count": null,
   "metadata": {
    "collapsed": true
   },
   "outputs": [],
   "source": [
    "# The docstring of this method tells us, that the follwoing arguments are required to step\n",
    "# forward by one time step dt:\n",
    "# - model state of type \"HbvSnowState\"\n",
    "# - model response of type \"HbvSnowResponse\"\n",
    "# - start time t0 of type \"int\"\n",
    "# - end time t1 of type \"int\"\n",
    "# - model parameters of type \"HbvSnowParameter\"\n",
    "# - precipitation input of type \"float\"\n",
    "# - temperature input of type \"float\"\n",
    "\n",
    "# If we can provide the above listed input, we can step the model forward."
   ]
  },
  {
   "cell_type": "code",
   "execution_count": null,
   "metadata": {
    "collapsed": false
   },
   "outputs": [],
   "source": [
    "# The shyft api supports quite some functionality for time and time series handling\n",
    "# lets assume that the synthetic data is daily data, starting at October 1st, 2016\n",
    "utc = api.Calendar() # provides shyft build-in functionality for date/time handling\n",
    "t_start = utc.time(2016, 10, 1) # starting at the beginning of the water year 2017\n",
    "dt = api.deltahours(24) # returns daily timestep in seconds"
   ]
  },
  {
   "cell_type": "code",
   "execution_count": null,
   "metadata": {
    "collapsed": true
   },
   "outputs": [],
   "source": [
    "# Let's now create Shyft time series from the supplied lists of precipitation and temperature.\n",
    "# First, we need a time axis, which is defined by a starting time, a time step and the number of time steps.\n",
    "ta = api.TimeAxis(t_start, dt, n)"
   ]
  },
  {
   "cell_type": "code",
   "execution_count": null,
   "metadata": {
    "collapsed": true
   },
   "outputs": [],
   "source": [
    "# We now can transform our python-type lists to Shyft type time series.\n",
    "# To get more information about the time series, have a look into the\n",
    "# \"ts-convolve\" and the \"partition_by_and_percentiles\" notebooks.\n",
    "\n",
    "# First, we convert the lists to shyft internal vectors of double values:\n",
    "temp_dv = api.DoubleVector.from_numpy(temp)\n",
    "precip_dv = api.DoubleVector.from_numpy(precip)\n",
    "\n",
    "# The TimeSeries class has some powerfull funcionality (however, this is not subject of matter in here).\n",
    "# For this reason, one needs to specify how the input data can be interpreted:\n",
    "# - as instant point values at the time given (e.g. such as most observed temperatures), or\n",
    "# - as average value of the period (e.g. such as most observed precipitation)\n",
    "# This distinction can be specified by passing the respective \"point_interpretation_policy\",\n",
    "# provided by the API:\n",
    "instant = api.point_interpretation_policy.POINT_INSTANT_VALUE\n",
    "average = api.point_interpretation_policy.POINT_AVERAGE_VALUE\n",
    "\n",
    "# Finally, we create shyft time-series as follows:\n",
    "# (Note: This step is not necessarily required to run the single methods.\n",
    "#  We could also just work with the double vector objects and the time axis)\n",
    "temp_ts = api.TimeSeries(ta, temp_dv, point_fx=instant)\n",
    "precip_ts = api.TimeSeries(ta, precip_dv, point_fx=average)"
   ]
  },
  {
   "cell_type": "markdown",
   "metadata": {},
   "source": [
    "### 3. Run a method using the SHyFT API"
   ]
  },
  {
   "cell_type": "code",
   "execution_count": null,
   "metadata": {
    "collapsed": false,
    "deletable": true,
    "editable": true
   },
   "outputs": [],
   "source": [
    "# To run the routine now step by step, we first need to instanciate an instance of the calculator object.\n",
    "# To instanciete the calculator class we need to provide the starting state of our model \n",
    "# (the values of all state variables at time t0) and the model parameters at time t0 as arguments.\n",
    "# The model state will later be updated by the routine. If we would like to, we can update the model\n",
    "# parameters as well. More to this further down.\n",
    "\n",
    "parameter = api.HbvSnowParameter()\n",
    "state = api.HbvSnowState()\n",
    "response = api.HbvSnowResponse()\n",
    "\n",
    "calculator = api.HbvSnowCalculator(parameter,state)"
   ]
  },
  {
   "cell_type": "code",
   "execution_count": null,
   "metadata": {
    "collapsed": false
   },
   "outputs": [],
   "source": [
    "# Let's first have a look to the starting state of our model: you can use tab completing\n",
    "# to investigate the state-variables of the HbvSnow algorithm (try out!)\n",
    "state."
   ]
  },
  {
   "cell_type": "code",
   "execution_count": null,
   "metadata": {
    "collapsed": false
   },
   "outputs": [],
   "source": [
    "# we now can simply run the routine step by step:\n",
    "\n",
    "for i in range(n):\n",
    "    P = precip_ts.v[i]\n",
    "    T = temp_ts.v[i]\n",
    "    t0 = t_start + i*dt\n",
    "    t1 = t0 + dt\n",
    "    calculator.step(state, response, t0, t1, parameter, P, T)"
   ]
  },
  {
   "cell_type": "code",
   "execution_count": null,
   "metadata": {
    "collapsed": true
   },
   "outputs": [],
   "source": [
    "# However, so far we didn't get any information about state and response variables from the model.\n",
    "# Let's repeat the run - this time collecting the state and response variables.\n",
    "# (Note: Collecting state and response variables is done by so called \"collectors\" when running\n",
    "#  a model stack available in shyft, e.g. the pt_gs_k stack. Here, we simply append the model state and\n",
    "#  response of each time step to shyft's double vectors.)"
   ]
  },
  {
   "cell_type": "code",
   "execution_count": null,
   "metadata": {
    "collapsed": false
   },
   "outputs": [],
   "source": [
    "swe = api.DoubleVector() # double vector to collect snow water equivalent, a state variable of HbvSnow; the double vector is empty so far\n",
    "outflow = api.DoubleVector() # double vector to collect outflow from the snow pack, a response variable of HbvSnow."
   ]
  },
  {
   "cell_type": "code",
   "execution_count": null,
   "metadata": {
    "collapsed": false
   },
   "outputs": [],
   "source": [
    "state = api.HbvSnowState() # reset the model state to default\n",
    "for i in range(n):\n",
    "    P = precip_ts.v[i]\n",
    "    T = temp_ts.v[i]\n",
    "    t0 = t_start + i*dt\n",
    "    t1 = t0 + dt\n",
    "    calculator.step(state, response, t0, t1, parameter, P, T)\n",
    "    swe.append(state.swe) # appending the current model state to the double vector\n",
    "    outflow.append(response.outflow) # appending the current model respnse to the double vector"
   ]
  },
  {
   "cell_type": "code",
   "execution_count": null,
   "metadata": {
    "collapsed": false
   },
   "outputs": [],
   "source": [
    "# Let's also create a time axis suiting to the collected state and response:\n",
    "# (Note: the first collection of a state and response refers to t_start+dt)\n",
    "ta_state = api.TimeAxis(t_start+dt, dt, n-1)\n",
    "# Using this time axis, we can create a list of datetime objects which will use during plotting\n",
    "dates = [datetime.datetime.utcfromtimestamp(t) for t in ta_state.time_points]"
   ]
  },
  {
   "cell_type": "code",
   "execution_count": null,
   "metadata": {
    "collapsed": false
   },
   "outputs": [],
   "source": [
    "# Let's plot the data we received from HbvSnow\n",
    "fig, ax1 = plt.subplots(figsize=(10,5))\n",
    "ax2 = ax1.twinx()\n",
    "ax1.plot(dates, outflow, c='r', lw=1, label='outflow')\n",
    "ax2.plot(dates, swe, c='k', lw=3, label='swe')\n",
    "ax1.set_ylabel('daily outflow [mm/h]')\n",
    "ax2.set_ylabel('swe [mm]')\n",
    "ax1.legend(loc=2); ax2.legend(loc=1)"
   ]
  },
  {
   "cell_type": "markdown",
   "metadata": {},
   "source": [
    "### 4. Changing parameters and initial state"
   ]
  },
  {
   "cell_type": "code",
   "execution_count": null,
   "metadata": {
    "collapsed": true
   },
   "outputs": [],
   "source": [
    "# So far we ran the routine only with the default parameters and state.\n",
    "# Shyft provides the functionality to set starting state and parameters on the fly as needed."
   ]
  },
  {
   "cell_type": "code",
   "execution_count": null,
   "metadata": {
    "collapsed": true
   },
   "outputs": [],
   "source": [
    "# Use tab completion to investigate on which parameters HbvSnow depends"
   ]
  },
  {
   "cell_type": "code",
   "execution_count": null,
   "metadata": {
    "collapsed": false
   },
   "outputs": [],
   "source": [
    "parameter."
   ]
  },
  {
   "cell_type": "code",
   "execution_count": null,
   "metadata": {
    "collapsed": true
   },
   "outputs": [],
   "source": [
    "# Use the 'help' functionality to get information about a certain parameter, e.g. cx"
   ]
  },
  {
   "cell_type": "code",
   "execution_count": null,
   "metadata": {
    "collapsed": false
   },
   "outputs": [],
   "source": [
    "parameter.cx?"
   ]
  },
  {
   "cell_type": "code",
   "execution_count": null,
   "metadata": {
    "collapsed": false
   },
   "outputs": [],
   "source": [
    "# let's look at the default value of the parameter cx\n",
    "print(parameter.cx)"
   ]
  },
  {
   "cell_type": "code",
   "execution_count": null,
   "metadata": {
    "collapsed": true
   },
   "outputs": [],
   "source": [
    "# lets now set a parameter to a new value and rerun HbvSnow and replot the outcome"
   ]
  },
  {
   "cell_type": "code",
   "execution_count": null,
   "metadata": {
    "collapsed": false
   },
   "outputs": [],
   "source": [
    "parameter.cx = 2.0"
   ]
  },
  {
   "cell_type": "code",
   "execution_count": null,
   "metadata": {
    "collapsed": true
   },
   "outputs": [],
   "source": [
    "swe = api.DoubleVector()\n",
    "outflow = api.DoubleVector()\n",
    "state = api.HbvSnowState() # reset the model state to default\n",
    "calculator = api.HbvSnowCalculator(parameter, state)\n",
    "for i in range(n):\n",
    "    P = precip_ts.v[i]\n",
    "    T = temp_ts.v[i]\n",
    "    t0 = t_start + i*dt\n",
    "    t1 = t0 + dt\n",
    "    calculator.step(state, response, t0, t1, parameter, P, T)\n",
    "    swe.append(state.swe) # appending the current model state to the double vector\n",
    "    outflow.append(response.outflow) # appending the current model respnse to the double vector"
   ]
  },
  {
   "cell_type": "code",
   "execution_count": null,
   "metadata": {
    "collapsed": false
   },
   "outputs": [],
   "source": [
    "# Let's plot the data we received from HbvSnow\n",
    "fig, ax1 = plt.subplots(figsize=(10,5))\n",
    "ax2 = ax1.twinx()\n",
    "ax1.plot(dates, outflow, c='r', lw=1, label='outflow')\n",
    "ax2.plot(dates, swe, c='k', lw=3, label='swe')\n",
    "ax1.set_ylabel('daily outflow [mm/h]')\n",
    "ax2.set_ylabel('swe [mm]')\n",
    "ax1.legend(loc=2); ax2.legend(loc=1)"
   ]
  },
  {
   "cell_type": "code",
   "execution_count": null,
   "metadata": {
    "collapsed": true
   },
   "outputs": [],
   "source": [
    "# to complete the training, let's also set a different starting state, e.g. an already existing snow pack:"
   ]
  },
  {
   "cell_type": "code",
   "execution_count": null,
   "metadata": {
    "collapsed": true
   },
   "outputs": [],
   "source": [
    "swe = api.DoubleVector()\n",
    "outflow = api.DoubleVector()\n",
    "state = api.HbvSnowState() # reset the model state to default\n",
    "parameter = api.HbvSnowParameter() # reset the model parameters to default"
   ]
  },
  {
   "cell_type": "code",
   "execution_count": null,
   "metadata": {
    "collapsed": false
   },
   "outputs": [],
   "source": [
    "# setting a certain starting state\n",
    "state.sca = 1.0\n",
    "state.swe = 150.0"
   ]
  },
  {
   "cell_type": "code",
   "execution_count": null,
   "metadata": {
    "collapsed": true
   },
   "outputs": [],
   "source": [
    "# rerun the model\n",
    "calculator = api.HbvSnowCalculator(parameter, state)\n",
    "for i in range(n):\n",
    "    P = precip_ts.v[i]\n",
    "    T = temp_ts.v[i]\n",
    "    t0 = t_start + i*dt\n",
    "    t1 = t0 + dt\n",
    "    calculator.step(state, response, t0, t1, parameter, P, T)\n",
    "    swe.append(state.swe) # appending the current model state to the double vector\n",
    "    outflow.append(response.outflow) # appending the current model respnse to the double vector"
   ]
  },
  {
   "cell_type": "code",
   "execution_count": null,
   "metadata": {
    "collapsed": false
   },
   "outputs": [],
   "source": [
    "# Let's plot the data we received from HbvSnow\n",
    "fig, ax1 = plt.subplots(figsize=(10,5))\n",
    "ax2 = ax1.twinx()\n",
    "ax1.plot(dates, outflow, c='r', lw=1, label='outflow')\n",
    "ax2.plot(dates, swe, c='k', lw=3, label='swe')\n",
    "ax1.set_ylabel('daily outflow [mm/h]')\n",
    "ax2.set_ylabel('swe [mm]')\n",
    "ax1.legend(loc=2); ax2.legend(loc=1)"
   ]
  },
  {
   "cell_type": "code",
   "execution_count": null,
   "metadata": {
    "collapsed": true
   },
   "outputs": [],
   "source": []
  },
  {
   "cell_type": "code",
   "execution_count": null,
   "metadata": {
    "collapsed": true
   },
   "outputs": [],
   "source": []
  }
 ],
 "metadata": {
  "kernelspec": {
   "display_name": "Python 3",
   "language": "python",
   "name": "python3"
  },
  "language_info": {
   "codemirror_mode": {
    "name": "ipython",
    "version": 3
   },
   "file_extension": ".py",
   "mimetype": "text/x-python",
   "name": "python",
   "nbconvert_exporter": "python",
   "pygments_lexer": "ipython3",
   "version": "3.5.3"
  }
 },
 "nbformat": 4,
 "nbformat_minor": 2
}
