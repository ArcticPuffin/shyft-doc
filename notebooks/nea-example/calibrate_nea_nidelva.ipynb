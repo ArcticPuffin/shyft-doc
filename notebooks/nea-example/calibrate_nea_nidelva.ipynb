{
 "cells": [
  {
   "cell_type": "markdown",
   "metadata": {},
   "source": [
    "## Running a calibration with SHyFT\n",
    "\n",
    "\n",
    "### This notebook is guiding through the simulation process of a catchment. The following steps are described:\n",
    "1. **Loading required python modules and setting path to SHyFT installation**\n",
    "2. **Configuration of a SHyFT calibration**\n",
    "3. **Running a SHyFT calibration**\n",
    "4. **Inspecting the calibration results**"
   ]
  },
  {
   "cell_type": "markdown",
   "metadata": {},
   "source": [
    "### 1. Loading required python modules and setting path to SHyFT installation\n",
    "\n",
    "Shyft requires a number of different modules to be loaded as part of the package. Below, we describe the required steps for loading the modules, and note that some steps are only required for the use of the jupyter notebook."
   ]
  },
  {
   "cell_type": "code",
   "execution_count": 1,
   "metadata": {},
   "outputs": [
    {
     "name": "stdout",
     "output_type": "stream",
     "text": [
      "Populating the interactive namespace from numpy and matplotlib\n"
     ]
    }
   ],
   "source": [
    "# Pure python modules and jupyter notebook functionality\n",
    "# first you should import the third-party python modules which you'll use later on\n",
    "# the first line enables that figures are shown inline, directly in the notebook\n",
    "%pylab inline\n",
    "import os\n",
    "import datetime as dt\n",
    "import pandas as pd\n",
    "from os import path\n",
    "import sys\n",
    "from matplotlib import pyplot as plt"
   ]
  },
  {
   "cell_type": "markdown",
   "metadata": {},
   "source": [
    "## The Shyft Environment\n",
    "\n",
    "This next step is highly specific on how and where you have installed Shyft. If you have followed the guidelines at github, and cloned the three shyft repositories: i) shyft, ii) shyft-data, and iii) shyft-doc, then you may need to tell jupyter notebooks where to find shyft. Uncomment the relevant lines below.\n",
    "\n",
    "If you have a 'system' shyft, or used `conda install -s sigbjorn shyft` to install shyft, then you probably will want to make sure you have set the SHYFTDATA directory correctly, as otherwise, Shyft will assume the above structure and fail. __This has to be done _before_ `import shyft`__. In that case, uncomment the relevant lines below.\n",
    "\n",
    "**note**: it is most likely that you'll need to do one or the other."
   ]
  },
  {
   "cell_type": "code",
   "execution_count": 2,
   "metadata": {},
   "outputs": [],
   "source": [
    "# now we create the shyft specific environment\n",
    "# set the path for your shyft build\n",
    "# this should point to the directory that is created\n",
    "# when you clone shyft, assuming you have built shyft\n",
    "# there and not installed it to your system python\n",
    "# if you followed the recommendations in the README, then\n",
    "# you will have cloned three git repos in a parallel structure\n",
    "# and can point to the shyft repository:\n",
    "# Note: you could achieve the same by setting a PYTHONPATH\n",
    "if 'SHYFT_DEPENDENCIES_DIR' in os.environ:\n",
    "    sys.path.insert(0,os.environ['SHYFT_DEPENDENCIES_DIR'])\n",
    "shyft_path = os.path.abspath(\"../../../shyft\")\n",
    "sys.path.insert(0, shyft_path)\n",
    "\n",
    "# If you have set up a system shyft installation, or it has\n",
    "# been set up for you somewhere, then you need to tell these\n",
    "# notebooks where to find the data. This is relevant with respect\n",
    "# to how the .yaml configuration files are set up. Set this to\n",
    "# point to the shyft-data directory on your machine.\n",
    "if 'SHYFTDATA' not in os.environ:\n",
    "    ws_shyft_data = os.path.join(os.environ['HOME'],'workspace/shyft_workspace/shyft-data')\n",
    "    if os.path.exists(ws_shyft_data):\n",
    "        os.environ['SHYFTDATA'] = ws_shyft_data\n",
    "    rel_shyft_data = os.path.join(os.path.abspath(\"../../..\"),\"shyft-data\")\n",
    "    if os.path.exists(rel_shyft_data):  # just try to auto-dectect some common scenarios\n",
    "        os.environ['SHYFTDATA'] = rel_shyft_data"
   ]
  },
  {
   "cell_type": "code",
   "execution_count": 3,
   "metadata": {},
   "outputs": [],
   "source": [
    "# importing the shyft modules needed for running a calibration\n",
    "from shyft.repository.default_state_repository import DefaultStateRepository\n",
    "from shyft.orchestration.configuration.yaml_configs import YAMLCalibConfig\n",
    "from shyft.orchestration.simulators.config_simulator import ConfigCalibrator"
   ]
  },
  {
   "cell_type": "markdown",
   "metadata": {},
   "source": [
    "### 2. Configuration of a SHyFT calibration"
   ]
  },
  {
   "cell_type": "code",
   "execution_count": 4,
   "metadata": {},
   "outputs": [],
   "source": [
    "# set up configuration using *.yaml configuration files\n",
    "config_file_path = os.path.abspath(\"./nea-config/neanidelva_calibration.yaml\") # here is the *.yaml file\n",
    "cfg = YAMLCalibConfig(config_file_path, \"neanidelva\")"
   ]
  },
  {
   "cell_type": "code",
   "execution_count": 5,
   "metadata": {},
   "outputs": [
    {
     "name": "stdout",
     "output_type": "stream",
     "text": [
      "Creating TargetSpecificationVector...\n"
     ]
    }
   ],
   "source": [
    "# initialize an instance of the orchestration's ConfigCalcalibrator class, which has all the functionality needed\n",
    "# to run a calibration using the above initiated configuration\n",
    "calib = ConfigCalibrator(cfg)\n",
    "n_cells = calib.region_model.size()\n",
    "state_repos = DefaultStateRepository(calib.region_model.__class__, n_cells)\n",
    "#calib.init()"
   ]
  },
  {
   "cell_type": "markdown",
   "metadata": {},
   "source": [
    "### 3. Running a SHyFT calibration"
   ]
  },
  {
   "cell_type": "code",
   "execution_count": 6,
   "metadata": {},
   "outputs": [
    {
     "name": "stderr",
     "output_type": "stream",
     "text": [
      "/home/sih/projects/shyft/shyft/repository/netcdf/cf_geo_ts_repository.py:280: RuntimeWarning: invalid value encountered in greater\n",
      "  pure_arr = data[data_slice]\n"
     ]
    },
    {
     "name": "stdout",
     "output_type": "stream",
     "text": [
      "Calibrating...\n",
      "Storing calibrated params in: /home/sih/projects/shyft-doc/notebooks/nea-example/nea-config/neanidelva_model_calibrated.yaml\n"
     ]
    }
   ],
   "source": [
    "# once the calibrator is set up, all you need to do is running the calibration...\n",
    "# the calibrated parameters are stored in a model.yaml. \n",
    "results = calib.calibrate(cfg.sim_config.time_axis, state_repos.get_state(0), \n",
    "                          cfg.optimization_method['name'],\n",
    "                          cfg.optimization_method['params'])"
   ]
  },
  {
   "cell_type": "markdown",
   "metadata": {
    "collapsed": true
   },
   "source": [
    "### 4. Inspecting the calibration results\n",
    "First the Nash-Suttcliffe-efficiency of the calibrated simulation is computed to see the quality of the calibration.\n",
    "Then the calibrated model parameters are accessed and printed out."
   ]
  },
  {
   "cell_type": "code",
   "execution_count": 7,
   "metadata": {},
   "outputs": [
    {
     "name": "stdout",
     "output_type": "stream",
     "text": [
      "Final NSE = 0.7609170710608739\n"
     ]
    }
   ],
   "source": [
    "# Get NSE of calibrated run:\n",
    "result_params = []\n",
    "for i in range(results.size()):\n",
    "    result_params.append(results.get(i))\n",
    "print(\"Final NSE =\", 1-calib.optimizer.calculate_goal_function(result_params))"
   ]
  },
  {
   "cell_type": "code",
   "execution_count": 8,
   "metadata": {},
   "outputs": [
    {
     "name": "stdout",
     "output_type": "stream",
     "text": [
      "PARAM-NAME                     CALIB-VALUE\n",
      "kirchner.c1                     -3.866077\n",
      "kirchner.c2                      0.113204\n",
      "kirchner.c3                     -0.068184\n",
      "ae.ae_scale_factor               1.500000\n",
      "gs.tx                           -0.613440\n",
      "gs.wind_scale                    3.021137\n",
      "gs.max_water                     0.100000\n",
      "gs.wind_const                    3.478340\n",
      "gs.fast_albedo_decay_rate       10.430776\n",
      "gs.slow_albedo_decay_rate       30.509647\n",
      "gs.surface_magnitude            30.000000\n",
      "gs.max_albedo                    0.900000\n",
      "gs.min_albedo                    0.447744\n",
      "gs.snowfall_reset_depth          5.000000\n",
      "gs.snow_cv                       0.400000\n",
      "gs.glacier_albedo                0.400000\n",
      "p_corr.scale_factor              1.034119\n",
      "gs.snow_cv_forest_factor         0.000000\n",
      "gs.snow_cv_altitude_factor       0.000000\n",
      "pt.albedo                        0.200000\n",
      "pt.alpha                         1.260000\n",
      "gs.initial_bare_ground_fraction   0.040000\n",
      "gs.winter_end_day_of_year      100.000000\n",
      "gs.calculate_iso_pot_energy      0.000000\n",
      "gm.dtf                           6.000000\n",
      "routing.velocity                 0.000000\n",
      "routing.alpha                    0.900000\n",
      "routing.beta                     3.000000\n",
      "gs.n_winter_days               221.000000\n",
      "gm.direct_response               0.511705\n"
     ]
    }
   ],
   "source": [
    "# Check out the calibrated parameters.\n",
    "\n",
    "diff = 1.0E-3\n",
    "print(\"{0:30s} {1:10s}\".format(\"PARAM-NAME\", \"CALIB-VALUE\"))\n",
    "\n",
    "for i in range(results.size()):\n",
    "    print(\"{0:30s} {1:10f}\".format(results.get_name(i), results.get(i)))"
   ]
  },
  {
   "cell_type": "code",
   "execution_count": null,
   "metadata": {},
   "outputs": [],
   "source": []
  },
  {
   "cell_type": "code",
   "execution_count": null,
   "metadata": {},
   "outputs": [],
   "source": []
  }
 ],
 "metadata": {
  "anaconda-cloud": {},
  "kernelspec": {
   "display_name": "Python 3",
   "language": "python",
   "name": "python3"
  },
  "language_info": {
   "codemirror_mode": {
    "name": "ipython",
    "version": 3
   },
   "file_extension": ".py",
   "mimetype": "text/x-python",
   "name": "python",
   "nbconvert_exporter": "python",
   "pygments_lexer": "ipython3",
   "version": "3.6.4"
  }
 },
 "nbformat": 4,
 "nbformat_minor": 1
}
