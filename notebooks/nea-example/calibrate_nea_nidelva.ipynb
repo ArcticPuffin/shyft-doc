{
 "cells": [
  {
   "cell_type": "markdown",
   "metadata": {},
   "source": [
    "Running a simulation with SHyFT\n",
    "=========\n",
    "\n",
    "### This notebook is guiding through the simulation process of a catchment. The following steps are described:\n",
    "1. **Loading required python modules and setting path to SHyFT installation**\n",
    "2. **Configuration of a SHyFT calibration**\n",
    "3. **Running a SHyFT calibration**\n",
    "4. **Inspecting the calibration results**"
   ]
  },
  {
   "cell_type": "markdown",
   "metadata": {},
   "source": [
    "### 1. Loading required python modules and setting path to SHyFT installation"
   ]
  },
  {
   "cell_type": "code",
   "execution_count": null,
   "metadata": {
    "collapsed": true
   },
   "outputs": [],
   "source": [
    "# importing thrid-party python modules\n",
    "import sys\n",
    "import os"
   ]
  },
  {
   "cell_type": "code",
   "execution_count": null,
   "metadata": {
    "collapsed": false
   },
   "outputs": [],
   "source": [
    "# setting the path to the shyft build\n",
    "shyft_path = os.path.abspath(\"../../../shyft\")\n",
    "sys.path.insert(0,shyft_path)"
   ]
  },
  {
   "cell_type": "code",
   "execution_count": null,
   "metadata": {
    "collapsed": true
   },
   "outputs": [],
   "source": [
    "# importing the shyft modules needed for running a calibration\n",
    "from shyft.repository.default_state_repository import DefaultStateRepository\n",
    "from shyft.orchestration.configuration.yaml_configs import YAMLCalibConfig\n",
    "from shyft.orchestration.simulators.config_simulator import ConfigCalibrator"
   ]
  },
  {
   "cell_type": "markdown",
   "metadata": {},
   "source": [
    "###2. Configuration of a SHyFT calibration"
   ]
  },
  {
   "cell_type": "code",
   "execution_count": null,
   "metadata": {
    "collapsed": false
   },
   "outputs": [],
   "source": [
    "# set up configuration using *.yaml configuration files\n",
    "config_file_path = os.path.abspath(\"./nea-config/neanidelva_calibration.yaml\") # here is the *.yaml file\n",
    "cfg = YAMLCalibConfig(config_file_path, \"neanidelva\")"
   ]
  },
  {
   "cell_type": "code",
   "execution_count": null,
   "metadata": {
    "collapsed": false
   },
   "outputs": [],
   "source": [
    "# initialize an instance of the orchestration's ConfigCalcalibrator class, which has all the functionality needed\n",
    "# to run a calibration using the above initiated configuration\n",
    "calib = ConfigCalibrator(cfg)\n",
    "n_cells = calib.region_model.size()\n",
    "state_repos = DefaultStateRepository(calib.region_model.__class__, n_cells)\n",
    "calib.init()"
   ]
  },
  {
   "cell_type": "markdown",
   "metadata": {},
   "source": [
    "###3. Running a SHyFT calibration"
   ]
  },
  {
   "cell_type": "code",
   "execution_count": null,
   "metadata": {
    "collapsed": false
   },
   "outputs": [],
   "source": [
    "# once the calibrator is set up, all you need to do is running the calibration...\n",
    "# the calibrated parameters are stored in a model.yaml. \n",
    "results = calib.calibrate(cfg.sim_config.time_axis, state_repos.get_state(0), \n",
    "                          cfg.optimization_method['name'],\n",
    "                          cfg.optimization_method['params'], p_vec=None)"
   ]
  },
  {
   "cell_type": "markdown",
   "metadata": {
    "collapsed": true
   },
   "source": [
    "###4. Inspecting the calibration results\n",
    "First the Nash-Suttcliffe-efficiency of the calibrated simulation is computed to see the quality of the calibration.\n",
    "Then the calibrated model parameters are accessed and printed out."
   ]
  },
  {
   "cell_type": "code",
   "execution_count": null,
   "metadata": {
    "collapsed": false
   },
   "outputs": [],
   "source": [
    "# Get NSE of calibrated run:\n",
    "result_params = []\n",
    "for i in range(results.size()):\n",
    "    result_params.append(results.get(i))\n",
    "print(\"Final NSE =\", 1-calib.optimizer.calculate_goal_function(result_params))"
   ]
  },
  {
   "cell_type": "code",
   "execution_count": null,
   "metadata": {
    "collapsed": false
   },
   "outputs": [],
   "source": [
    "# Check out parameters. Print a warning if parameter interval is reached.\n",
    "diff = 1.0E-3\n",
    "print(\"{0:30s} {1:10s} {2:10s} {3:10s}\".format(\"PARAM-NAME\", \"CALIB-PARAM\", \"MIN\", \"MAX\"))\n",
    "for i in range(results.size()): \n",
    "    p_cal = results.get(i) # calibrated parameter\n",
    "    p_min = calib.p_min[i] # min parameter set in the calibration.yaml file\n",
    "    p_max = calib.p_max[i] # max parameter set in the calibration.yaml file\n",
    "    print(\"{0:30s} {1:10f} {2:10f} {3:10f}\".format(results.get_name(i),p_cal, p_min, p_max,))"
   ]
  }
 ],
 "metadata": {
  "kernelspec": {
   "display_name": "Python 3",
   "language": "python",
   "name": "python3"
  },
  "language_info": {
   "codemirror_mode": {
    "name": "ipython",
    "version": 3
   },
   "file_extension": ".py",
   "mimetype": "text/x-python",
   "name": "python",
   "nbconvert_exporter": "python",
   "pygments_lexer": "ipython3",
   "version": "3.3.5"
  }
 },
 "nbformat": 4,
 "nbformat_minor": 0
}
