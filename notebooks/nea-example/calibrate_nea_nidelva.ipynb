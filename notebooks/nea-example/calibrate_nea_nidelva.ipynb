{
 "cells": [
  {
   "cell_type": "markdown",
   "metadata": {},
   "source": [
    "## Running a calibration with SHyFT\n",
    "\n",
    "\n",
    "### This notebook is guiding through the simulation process of a catchment. The following steps are described:\n",
    "1. **Loading required python modules and setting path to SHyFT installation**\n",
    "2. **Configuration of a SHyFT calibration**\n",
    "3. **Running a SHyFT calibration**\n",
    "4. **Inspecting the calibration results**"
   ]
  },
  {
   "cell_type": "markdown",
   "metadata": {},
   "source": [
    "### 1. Loading required python modules and setting path to SHyFT installation\n",
    "\n",
    "Shyft requires a number of different modules to be loaded as part of the package. Below, we describe the required steps for loading the modules, and note that some steps are only required for the use of the jupyter notebook."
   ]
  },
  {
   "cell_type": "code",
   "execution_count": 1,
   "metadata": {},
   "outputs": [
    {
     "name": "stdout",
     "output_type": "stream",
     "text": [
      "Populating the interactive namespace from numpy and matplotlib\n"
     ]
    }
   ],
   "source": [
    "# Pure python modules and jupyter notebook functionality\n",
    "# first you should import the third-party python modules which you'll use later on\n",
    "# the first line enables that figures are shown inline, directly in the notebook\n",
    "%pylab inline\n",
    "import os\n",
    "import datetime as dt\n",
    "import pandas as pd\n",
    "from os import path\n",
    "import sys\n",
    "from matplotlib import pyplot as plt"
   ]
  },
  {
   "cell_type": "markdown",
   "metadata": {},
   "source": [
    "## The Shyft Environment\n",
    "\n",
    "This next step is highly specific on how and where you have installed Shyft. If you have followed the guidelines at github, and cloned the three shyft repositories: i) shyft, ii) shyft-data, and iii) shyft-doc, then you may need to tell jupyter notebooks where to find shyft. Uncomment the relevant lines below.\n",
    "\n",
    "If you have a 'system' shyft, or used `conda install -s sigbjorn shyft` to install shyft, then you probably will want to make sure you have set the SHYFT_DATA directory correctly, as otherwise, Shyft will assume the above structure and fail. __This has to be done _before_ `import shyft`__. In that case, uncomment the relevant lines below.\n",
    "\n",
    "**note**: it is most likely that you'll need to do one or the other."
   ]
  },
  {
   "cell_type": "code",
   "execution_count": 2,
   "metadata": {},
   "outputs": [],
   "source": [
    "# try to auto-configure the path, -will work in all cases where doc and data\n",
    "# are checked out at same level\n",
    "shyft_data_path = path.abspath(\"../../../shyft-data\")\n",
    "if path.exists(shyft_data_path) and 'SHYFT_DATA' not in os.environ:\n",
    "    os.environ['SHYFT_DATA']=shyft_data_path\n",
    "    \n",
    "# shyft should be available either by it's install in python\n",
    "# or by PYTHONPATH set by user prior to starting notebook.\n",
    "# This is equivalent to the two lines below\n",
    "#  shyft_path=path.abspath('../../../shyft')\n",
    "#  sys.path.insert(0,shyft_path)"
   ]
  },
  {
   "cell_type": "code",
   "execution_count": 3,
   "metadata": {},
   "outputs": [],
   "source": [
    "# importing the shyft modules needed for running a calibration\n",
    "from shyft.repository.default_state_repository import DefaultStateRepository\n",
    "from shyft.orchestration.configuration.yaml_configs import YAMLCalibConfig\n",
    "from shyft.orchestration.simulators.config_simulator import ConfigCalibrator"
   ]
  },
  {
   "cell_type": "markdown",
   "metadata": {},
   "source": [
    "### 2. Configuration of a SHyFT calibration"
   ]
  },
  {
   "cell_type": "code",
   "execution_count": 4,
   "metadata": {},
   "outputs": [],
   "source": [
    "# set up configuration using *.yaml configuration files\n",
    "config_file_path = os.path.abspath(\"./nea-config/neanidelva_calibration.yaml\") # here is the *.yaml file\n",
    "cfg = YAMLCalibConfig(config_file_path, \"neanidelva\")"
   ]
  },
  {
   "cell_type": "code",
   "execution_count": 5,
   "metadata": {},
   "outputs": [
    {
     "name": "stdout",
     "output_type": "stream",
     "text": [
      "Creating TargetSpecificationVector...\n"
     ]
    }
   ],
   "source": [
    "# initialize an instance of the orchestration's ConfigCalcalibrator class, which has all the functionality needed\n",
    "# to run a calibration using the above initiated configuration\n",
    "calib = ConfigCalibrator(cfg)\n",
    "n_cells = calib.region_model.size()\n",
    "state_repos = DefaultStateRepository(calib.region_model)  # Notice that this repository needs the real model\n",
    "#                                                           so that it's able to generate a precise\n",
    "#                                                           default state-with-id vector for this\n",
    "#                                                           specific model"
   ]
  },
  {
   "cell_type": "markdown",
   "metadata": {},
   "source": [
    "### 3. Running a SHyFT calibration"
   ]
  },
  {
   "cell_type": "code",
   "execution_count": 6,
   "metadata": {},
   "outputs": [
    {
     "name": "stderr",
     "output_type": "stream",
     "text": [
      "/home/sih/projects/shyft/shyft/repository/netcdf/cf_geo_ts_repository.py:280: RuntimeWarning: invalid value encountered in greater\n",
      "  pure_arr = data[data_slice]\n"
     ]
    },
    {
     "name": "stdout",
     "output_type": "stream",
     "text": [
      "Calibrating...\n",
      "Storing calibrated params in: /home/sih/projects/shyft-doc/notebooks/nea-example/nea-config/neanidelva_model_calibrated.yaml\n"
     ]
    }
   ],
   "source": [
    "# once the calibrator is set up, all you need to do is running the calibration...\n",
    "# the calibrated parameters are stored in a model.yaml. \n",
    "results = calib.calibrate(cfg.sim_config.time_axis, state_repos.get_state(0).state_vector, \n",
    "                          cfg.optimization_method['name'],\n",
    "                          cfg.optimization_method['params'])"
   ]
  },
  {
   "cell_type": "markdown",
   "metadata": {
    "collapsed": true
   },
   "source": [
    "### 4. Inspecting the calibration results\n",
    "First the Nash-Suttcliffe-efficiency of the calibrated simulation is computed to see the quality of the calibration.\n",
    "Then the calibrated model parameters are accessed and printed out."
   ]
  },
  {
   "cell_type": "code",
   "execution_count": 7,
   "metadata": {},
   "outputs": [
    {
     "name": "stdout",
     "output_type": "stream",
     "text": [
      "Final NSE = 0.7690103492343635\n"
     ]
    }
   ],
   "source": [
    "# Get NSE of calibrated run:\n",
    "result_params = []\n",
    "for i in range(results.size()):\n",
    "    result_params.append(results.get(i))\n",
    "print(\"Final NSE =\", 1-calib.optimizer.calculate_goal_function(result_params))"
   ]
  },
  {
   "cell_type": "code",
   "execution_count": 8,
   "metadata": {},
   "outputs": [
    {
     "name": "stdout",
     "output_type": "stream",
     "text": [
      "PARAM-NAME                     CALIB-VALUE\n",
      "kirchner.c1                     -3.779541\n",
      "kirchner.c2                      0.207109\n",
      "kirchner.c3                     -0.054347\n",
      "ae.ae_scale_factor               1.500000\n",
      "gs.tx                           -0.685956\n",
      "gs.wind_scale                    3.092427\n",
      "gs.max_water                     0.100000\n",
      "gs.wind_const                    3.467768\n",
      "gs.fast_albedo_decay_rate       10.553194\n",
      "gs.slow_albedo_decay_rate       30.345422\n",
      "gs.surface_magnitude            30.000000\n",
      "gs.max_albedo                    0.900000\n",
      "gs.min_albedo                    0.481895\n",
      "gs.snowfall_reset_depth          5.000000\n",
      "gs.snow_cv                       0.400000\n",
      "gs.glacier_albedo                0.400000\n",
      "p_corr.scale_factor              1.029852\n",
      "gs.snow_cv_forest_factor         0.000000\n",
      "gs.snow_cv_altitude_factor       0.000000\n",
      "pt.albedo                        0.200000\n",
      "pt.alpha                         1.260000\n",
      "gs.initial_bare_ground_fraction   0.040000\n",
      "gs.winter_end_day_of_year      100.000000\n",
      "gs.calculate_iso_pot_energy      0.000000\n",
      "gm.dtf                           6.000000\n",
      "routing.velocity                 0.000000\n",
      "routing.alpha                    0.900000\n",
      "routing.beta                     3.000000\n",
      "gs.n_winter_days               221.000000\n",
      "gm.direct_response               0.521023\n"
     ]
    }
   ],
   "source": [
    "# Check out the calibrated parameters.\n",
    "\n",
    "diff = 1.0E-3\n",
    "print(\"{0:30s} {1:10s}\".format(\"PARAM-NAME\", \"CALIB-VALUE\"))\n",
    "\n",
    "for i in range(results.size()):\n",
    "    print(\"{0:30s} {1:10f}\".format(results.get_name(i), results.get(i)))"
   ]
  },
  {
   "cell_type": "code",
   "execution_count": null,
   "metadata": {},
   "outputs": [],
   "source": []
  },
  {
   "cell_type": "code",
   "execution_count": null,
   "metadata": {},
   "outputs": [],
   "source": []
  }
 ],
 "metadata": {
  "anaconda-cloud": {},
  "kernelspec": {
   "display_name": "Python 3",
   "language": "python",
   "name": "python3"
  },
  "language_info": {
   "codemirror_mode": {
    "name": "ipython",
    "version": 3
   },
   "file_extension": ".py",
   "mimetype": "text/x-python",
   "name": "python",
   "nbconvert_exporter": "python",
   "pygments_lexer": "ipython3",
   "version": "3.6.4"
  }
 },
 "nbformat": 4,
 "nbformat_minor": 1
}
