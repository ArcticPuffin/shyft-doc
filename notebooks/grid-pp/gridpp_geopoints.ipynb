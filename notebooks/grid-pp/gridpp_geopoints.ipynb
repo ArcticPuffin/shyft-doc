{
 "cells": [
  {
   "cell_type": "markdown",
   "metadata": {
    "collapsed": true
   },
   "source": [
    "Grid post-processing of Met.no data using SHyFT API\n",
    "=========\n",
    "\n",
    "### This notebook gives an example of Met.no data post-processing to correct temperature forecasts based on comparison to observations. The following steps are described:\n",
    "1. **Loading required python modules and setting path to SHyFT installation**\n",
    "2. **Generate synthetic data for temperature observation time-series**\n",
    "3. **Transform observations from set to grid (IDW)**\n",
    "4. **Create forecasts on the same grid**\n",
    "5. **Transform forecasts from grid to set (Kriging)**\n",
    "6. **Calculate the bias time-series using Kalman filter on the observation set**\n",
    "7. **Transform bias from set to grid (IDW) and apply bias to forecasts**\n",
    "8. **Transform corrected forecasts from grid to set (Kriging)**\n",
    "9. **Plot the results**"
   ]
  },
  {
   "cell_type": "markdown",
   "metadata": {},
   "source": [
    "### 1. Loading required python modules and setting path to SHyFT installation"
   ]
  },
  {
   "cell_type": "code",
   "execution_count": null,
   "metadata": {
    "collapsed": false
   },
   "outputs": [],
   "source": [
    "# first you should import the third-party python modules which you'll use later on\n",
    "# the first line enables that figures are shown inline, directly in the notebook\n",
    "%pylab inline\n",
    "import os\n",
    "from os import path\n",
    "import sys\n",
    "from matplotlib import pyplot as plt"
   ]
  },
  {
   "cell_type": "code",
   "execution_count": null,
   "metadata": {
    "collapsed": false
   },
   "outputs": [],
   "source": [
    "# set the path for your shyft build\n",
    "# this should point to the directory that is created\n",
    "# when you clone shyft, assuming you have built shyft\n",
    "# there and not installed it to your system python\n",
    "shyft_path = os.path.abspath(\"../../../shyft\")\n",
    "sys.path.insert(0, shyft_path)\n",
    "\n",
    "# you could achieve the same by setting a PYTHONPATH"
   ]
  },
  {
   "cell_type": "code",
   "execution_count": null,
   "metadata": {
    "collapsed": false
   },
   "outputs": [],
   "source": [
    "# once the shyft_path is set correctly, you should be able to import shyft modules\n",
    "import shyft\n",
    "from shyft import shyftdata_dir\n",
    "\n",
    "# if you have problems here, it may be related to having your LD_LIBRARY_PATH\n",
    "# pointing to the appropriate libboost_python libraries (.so files)\n",
    "from shyft.repository.default_state_repository import DefaultStateRepository\n",
    "from shyft.orchestration.configuration import yaml_configs\n",
    "from shyft.orchestration.simulators.config_simulator import ConfigSimulator\n",
    "from shyft import api"
   ]
  },
  {
   "cell_type": "code",
   "execution_count": null,
   "metadata": {
    "collapsed": false
   },
   "outputs": [],
   "source": [
    "# now you can access the api of shyft with tab completion and help, try this:\n",
    "\n",
    "#help(api.GeoPoint) # remove the hashtag and run the cell to print the documentation of the api.GeoPoint class\n",
    "#api. # remove the hashtag, set the pointer behind the dot and use \n",
    "      # tab completion to see the available attributes of the shyft api"
   ]
  },
  {
   "cell_type": "markdown",
   "metadata": {},
   "source": [
    "### 2. Generate synthetic data for temperature observation time-series"
   ]
  },
  {
   "cell_type": "code",
   "execution_count": null,
   "metadata": {
    "collapsed": false
   },
   "outputs": [],
   "source": [
    "# Create time-axis\n",
    "t0 = api.Calendar().time(2016, 1, 1)\n",
    "ta = api.Timeaxis(t0, api.deltahours(1), 240)\n",
    "ta2 = api.Timeaxis2(t0, api.deltahours(1), 240)\n",
    "\n",
    "# Create a TemperatureSourceVector to hold the set of observation time-series\n",
    "obs_set = api.TemperatureSourceVector()\n",
    "\n",
    "# Create time-series having a constant temperature of 15 and add them to the observation set\n",
    "ts = api.Timeseries(ta2, fill_value=15.0)\n",
    "obs_set.append(api.TemperatureSource(api.GeoPoint( 100, 100, 1000), ts))\n",
    "obs_set.append(api.TemperatureSource(api.GeoPoint(5100, 100, 1150), ts))\n",
    "obs_set.append(api.TemperatureSource(api.GeoPoint( 100, 5100, 850), ts))\n",
    "obs_set.append(api.TemperatureSource(api.GeoPoint(5100, 5100, 900), ts))"
   ]
  },
  {
   "cell_type": "markdown",
   "metadata": {},
   "source": [
    "### 3. Transform observations from set to grid (IDW)"
   ]
  },
  {
   "cell_type": "code",
   "execution_count": null,
   "metadata": {
    "collapsed": false
   },
   "outputs": [],
   "source": [
    "# Create a target grid specification of 1 x 1 km\n",
    "gpv_1 = api.GeoPointVector()\n",
    "for x in range(10):\n",
    "    for y in range(10):\n",
    "        gpv_1.append(api.GeoPoint(x*1000, y*1000, (x+y)*50))\n",
    "        \n",
    "# Generate the observation grid by IDW transform of temperature model\n",
    "obs_grid = api.idw_temperature(obs_set, gpv_1, ta, api.IDWTemperatureParameter())"
   ]
  },
  {
   "cell_type": "markdown",
   "metadata": {},
   "source": [
    "### 4. Create forecasts on the same grid"
   ]
  },
  {
   "cell_type": "code",
   "execution_count": null,
   "metadata": {
    "collapsed": false
   },
   "outputs": [],
   "source": [
    "# Create a forecast grid by copying the observation grid\n",
    "fc_grid = obs_grid\n",
    "\n",
    "# Add a time-series of constant value to every forecast time-series\n",
    "const_ts = api.Timeseries(ta2, fill_value=2.0)\n",
    "for fc in fc_grid:\n",
    "    fc.ts += const_ts"
   ]
  },
  {
   "cell_type": "markdown",
   "metadata": {},
   "source": [
    "### 5. Transform forecasts from grid to set (Kriging)"
   ]
  },
  {
   "cell_type": "code",
   "execution_count": null,
   "metadata": {
    "collapsed": false
   },
   "outputs": [],
   "source": [
    "# Create the target set specification at same GeoPoint as observation set\n",
    "gpv_2 = api.GeoPointVector()\n",
    "gpv_2.append(api.GeoPoint( 100, 100, 1000))\n",
    "gpv_2.append(api.GeoPoint(5100, 100, 1150))\n",
    "gpv_2.append(api.GeoPoint( 100, 5100, 850))\n",
    "gpv_2.append(api.GeoPoint(5100, 5100, 900))\n",
    "        \n",
    "# Create the forecast set by Krieging transform of temperature model\n",
    "fc_set = api.bayesian_kriging_temperature(fc_grid, gpv_2, ta, api.BTKParameter())"
   ]
  },
  {
   "cell_type": "markdown",
   "metadata": {},
   "source": [
    "### 6. Calculate the bias time-series using Kalman filter on the observation set"
   ]
  },
  {
   "cell_type": "code",
   "execution_count": null,
   "metadata": {
    "collapsed": false
   },
   "outputs": [],
   "source": [
    "# Create a TemperatureSourceVector to hold the set of bias time-series\n",
    "bias_set = api.TemperatureSourceVector()\n",
    "\n",
    "# Create the Kalman filter having 8 samples spaced every 3 hours to represent a daily periodic pattern\n",
    "kf = api.KalmanFilter()\n",
    "kbp = api.KalmanBiasPredictor(kf)\n",
    "kta = api.Timeaxis2(t0, api.deltahours(3), 8)\n",
    "\n",
    "# Calculate the coefficients of Kalman filter and \n",
    "# Create bias time-series based on the daily periodic pattern\n",
    "for obs in obs_set:\n",
    "    kbp.update_with_forecast(fc_set, obs.ts, kta)\n",
    "    pattern = api.KalmanState.get_x(kbp.state) * np.array(-1.0) # By convention, inverse sign of pattern values\n",
    "    bias_ts = api.create_periodic_pattern_ts(pattern, api.deltahours(3), ta.time(0), ta2)\n",
    "    bias_set.append(api.TemperatureSource(obs.mid_point(), bias_ts))"
   ]
  },
  {
   "cell_type": "markdown",
   "metadata": {},
   "source": [
    "### 7. Transform bias from set to grid (IDW) and apply to forecast grid"
   ]
  },
  {
   "cell_type": "code",
   "execution_count": null,
   "metadata": {
    "collapsed": false
   },
   "outputs": [],
   "source": [
    "# Generate the bias grid by IDW transform of temperature model\n",
    "bias_grid = api.idw_temperature(bias_set, gpv_1, ta, api.IDWTemperatureParameter())\n",
    "\n",
    "# Correct forecasts by applying bias time-series on the grid\n",
    "for i in range(len(fc_grid)):\n",
    "    fc_grid[i].ts += bias_grid[i].ts # By convention, add bias time-series"
   ]
  },
  {
   "cell_type": "code",
   "execution_count": null,
   "metadata": {
    "collapsed": false
   },
   "outputs": [],
   "source": [
    "# Check the last value of the time-series. It should be around 15\n",
    "print(fc_grid[0].ts.value(239))"
   ]
  },
  {
   "cell_type": "markdown",
   "metadata": {},
   "source": [
    "### 8. Transform corrected forecasts from grid to set (Kriging)"
   ]
  },
  {
   "cell_type": "code",
   "execution_count": null,
   "metadata": {
    "collapsed": false
   },
   "outputs": [],
   "source": [
    "# Generate the corrected forecast set by Krieging transform of temperature model\n",
    "fc_set = api.bayesian_kriging_temperature(fc_grid, gpv_2, ta, api.BTKParameter())"
   ]
  },
  {
   "cell_type": "markdown",
   "metadata": {},
   "source": [
    "### 9. Plot the results"
   ]
  },
  {
   "cell_type": "code",
   "execution_count": null,
   "metadata": {
    "collapsed": true
   },
   "outputs": [],
   "source": [
    "# Make a time-series plot of temperature sets\n",
    "fig, ax = plt.subplots(figsize=(20, 10))\n",
    "for i in range(len(bias_set)):\n",
    "    timestamps = [datetime.datetime.utcfromtimestamp(p.start) for p in obs_set[i].ts.time_axis]\n",
    "    ax.plot(timestamps, obs_set[i].ts.values, label = str(i+1) + ' Observation')\n",
    "    ax.plot(timestamps, fc_set[i].ts.values, label = str(i+1) + ' Forecast')\n",
    "    ax.plot(timestamps, bias_set[i].ts.values, label = str(i+1) + ' Bias')\n",
    "fig.autofmt_xdate()\n",
    "ax.legend(title='Temperature')\n",
    "ax.set_ylabel('Temp ($^\\circ$C)')"
   ]
  },
  {
   "cell_type": "code",
   "execution_count": null,
   "metadata": {
    "collapsed": true
   },
   "outputs": [],
   "source": [
    "# Make a scatter plot of grid temperature forecasts at ts.value(0)\n",
    "x = [fc.mid_point().x for fc in fc_grid]\n",
    "y = [fc.mid_point().y for fc in fc_grid]\n",
    "fig, ax = plt.subplots(figsize=(10, 5))\n",
    "temps = np.array([fc.ts.value(0) for fc in fc_grid])\n",
    "plot = ax.scatter(x, y, c=temps, marker='s', vmin=0, vmax=20, s=500, lw=0)\n",
    "plt.colorbar(plot).set_label('Temp ($^\\circ$C)')"
   ]
  }
 ],
 "metadata": {
  "anaconda-cloud": {},
  "kernelspec": {
   "display_name": "Python [default]",
   "language": "python",
   "name": "python3"
  },
  "language_info": {
   "codemirror_mode": {
    "name": "ipython",
    "version": 3
   },
   "file_extension": ".py",
   "mimetype": "text/x-python",
   "name": "python",
   "nbconvert_exporter": "python",
   "pygments_lexer": "ipython3",
   "version": "3.4.4"
  }
 },
 "nbformat": 4,
 "nbformat_minor": 0
}
