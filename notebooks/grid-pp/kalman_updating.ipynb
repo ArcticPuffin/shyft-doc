{
 "cells": [
  {
   "cell_type": "markdown",
   "metadata": {},
   "source": [
    "### This notebook sets up a Kalman filter and demonstrates how choice of parameters impact the updating"
   ]
  },
  {
   "cell_type": "markdown",
   "metadata": {},
   "source": [
    "### 1. Loading required python modules and setting path to SHyFT installation"
   ]
  },
  {
   "cell_type": "code",
   "execution_count": null,
   "metadata": {
    "collapsed": true
   },
   "outputs": [],
   "source": [
    "# first you should import the third-party python modules which you'll use later on\n",
    "# the first line enables that figures are shown inline, directly in the notebook\n",
    "%matplotlib inline\n",
    "import datetime\n",
    "import numpy as np\n",
    "import os\n",
    "from os import path\n",
    "import sys # once the shyft_path is set correctly, you should be able to import shyft modules\n",
    "\n",
    "# set the path for your shyft build\n",
    "# this should point to the directory that is created\n",
    "# when you clone shyft, assuming you have built shyft\n",
    "# there and not installed it to your system python\n",
    "shyft_path = os.path.abspath(\"../../../shyft\")\n",
    "sys.path.insert(0, shyft_path)\n",
    "\n",
    "import shyft\n",
    "# from shyft import shyftdata_dir\n",
    "\n",
    "from shyft import api\n",
    "from matplotlib import pyplot as plt"
   ]
  },
  {
   "cell_type": "markdown",
   "metadata": {},
   "source": [
    "### 2. Create Kalman filter"
   ]
  },
  {
   "cell_type": "code",
   "execution_count": null,
   "metadata": {
    "collapsed": false
   },
   "outputs": [],
   "source": [
    "# Create the Kalman filter having 8 samples spaced every 3 hours to represent a daily periodic pattern\n",
    "p=api.KalmanParameter()\n",
    "kf = api.KalmanFilter(p)\n",
    "# Check default parameters\n",
    "print(kf.parameter.n_daily_observations)\n",
    "print(kf.parameter.hourly_correlation)\n",
    "print(kf.parameter.covariance_init)\n",
    "print(kf.parameter.ratio_std_w_over_v)\n",
    "print(kf.parameter.std_error_bias_measurements)\n",
    "# help(kf)\n",
    "# help(api.KalmanState)"
   ]
  },
  {
   "cell_type": "markdown",
   "metadata": {},
   "source": [
    "### 3. Creates start states"
   ]
  },
  {
   "cell_type": "code",
   "execution_count": null,
   "metadata": {
    "collapsed": false
   },
   "outputs": [],
   "source": [
    "# Create initial states\n",
    "s=kf.create_initial_state()\n",
    "# Check systemic variance matrix and default start states\n",
    "# Note that coefficients in matrix W are of form \n",
    "# (std_error_bias_measurements*ratio_std_w_over_v)^2*hourly_correlation^|i-j|, \n",
    "# while coeffisients of P are of same form but with different variance.\n",
    "print(np.array_str(s.W, precision=4, suppress_small=True))\n",
    "print(\"\")\n",
    "print(np.array_str(s.P, precision=4, suppress_small=True))\n",
    "print(\"\")\n",
    "print(np.array_str(s.x, precision=4, suppress_small=True))\n",
    "print(np.array_str(s.k, precision=4, suppress_small=True))"
   ]
  },
  {
   "cell_type": "markdown",
   "metadata": {},
   "source": [
    "### 4. Update filter"
   ]
  },
  {
   "cell_type": "code",
   "execution_count": null,
   "metadata": {
    "collapsed": false
   },
   "outputs": [],
   "source": [
    "# Create a bias temperature observation series with some noise, update the filter,\n",
    "# and for each update save the states belonging to the first segment of the day\n",
    "number_days = 10\n",
    "observation = np.empty((8*number_days,1))\n",
    "kalman_gain = np.empty((8*number_days,1))\n",
    "std_P = np.empty((8*number_days,1))\n",
    "learning = np.empty((8*number_days,1))\n",
    "for i in range(len(observation)):\n",
    "    obs_bias = 2 + 0.3*np.random.randn() # Expected bias = 2 with noise\n",
    "    kf.update(obs_bias,api.deltahours(i*3),s)\n",
    "    std_P[i] = pow(s.P[0,0],0.5) # Values for hour 0000 UTC\n",
    "    observation[i] = obs_bias\n",
    "    kalman_gain[i] = s.k[0] # Values for hour 0000 UTC\n",
    "    learning[i] = s.x[0] # Values for hour 0000 UTC"
   ]
  },
  {
   "cell_type": "code",
   "execution_count": null,
   "metadata": {
    "collapsed": true
   },
   "outputs": [],
   "source": [
    "# help(api.TimeSeries)"
   ]
  },
  {
   "cell_type": "markdown",
   "metadata": {},
   "source": [
    "### 5. Plot results"
   ]
  },
  {
   "cell_type": "code",
   "execution_count": null,
   "metadata": {
    "collapsed": false
   },
   "outputs": [],
   "source": [
    "fig, ax = plt.subplots(figsize=(20,15))\n",
    "ax.plot(observation, 'b', label = 'Observation')\n",
    "ax.plot(std_P, 'k', label = 'Std. P')\n",
    "ax.plot(kalman_gain, 'g', label = 'Kalman gain')\n",
    "ax.plot(learning, 'r', label = 'Kalman learning')\n",
    "ax.legend()\n",
    "ax.set_title('State development for first time segment', fontsize=20, fontweight = 'bold')"
   ]
  },
  {
   "cell_type": "markdown",
   "metadata": {
    "collapsed": true
   },
   "source": [
    "### 6. Test to see how choice of parameters impact filter"
   ]
  },
  {
   "cell_type": "code",
   "execution_count": null,
   "metadata": {
    "collapsed": false
   },
   "outputs": [],
   "source": [
    "# Create new parameters and filter \n",
    "p_new = api.KalmanParameter()\n",
    "p_new.std_error_bias_measurements = 1\n",
    "p_new.ratio_std_w_over_v = 0.10\n",
    "kf_new = api.KalmanFilter(p_new)\n",
    "\n",
    "# Initial states\n",
    "s_new = kf_new.create_initial_state()\n",
    "# Update with same observation as above\n",
    "kalman_gain_new = np.empty((8*number_days,1))\n",
    "std_P_new = np.empty((8*number_days,1))\n",
    "learning_new = np.empty((8*number_days,1))\n",
    "for i in range(len(observation)):\n",
    "    kf_new.update(observation.item(i),api.deltahours(i*3),s_new)\n",
    "    std_P_new[i] = pow(s_new.P[0,0],0.5) # Values for hour 0000 UTC\n",
    "    kalman_gain_new[i] = s_new.k[0] # Values for hour 0000 UTC\n",
    "    learning_new[i] = s_new.x[0] # Values for hour 0000 UTC\n",
    "# Plot results\n",
    "fig, ax = plt.subplots(figsize=(20,15))\n",
    "ax.plot(observation, 'b', label = 'Observation')\n",
    "ax.plot(std_P, 'k', label = 'Std. P')\n",
    "ax.plot(kalman_gain, 'g', label = 'Kalman gain')\n",
    "ax.plot(learning, 'r', label = 'Kalman learning')\n",
    "ax.plot(std_P_new, 'k--', label = 'Std. P')\n",
    "ax.plot(kalman_gain_new, 'g--', label = 'Kalman gain')\n",
    "ax.plot(learning_new, 'r--', label = 'Kalman learning')\n",
    "ax.legend()\n",
    "ax.set_title('State development for first time segment', fontsize=20, fontweight = 'bold')"
   ]
  }
 ],
 "metadata": {
  "kernelspec": {
   "display_name": "Python 3",
   "language": "python",
   "name": "python3"
  },
  "language_info": {
   "codemirror_mode": {
    "name": "ipython",
    "version": 3
   },
   "file_extension": ".py",
   "mimetype": "text/x-python",
   "name": "python",
   "nbconvert_exporter": "python",
   "pygments_lexer": "ipython3",
   "version": "3.4.5"
  }
 },
 "nbformat": 4,
 "nbformat_minor": 2
}
