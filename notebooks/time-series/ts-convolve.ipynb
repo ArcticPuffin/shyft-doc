{
 "cells": [
  {
   "cell_type": "markdown",
   "metadata": {},
   "source": [
    "## Demonstration of the Shyft Timseries API convolve_w function\n",
    "\n",
    "### ts.convolve_w(weights, convolve_policy) function"
   ]
  },
  {
   "cell_type": "code",
   "execution_count": null,
   "metadata": {
    "collapsed": false
   },
   "outputs": [],
   "source": [
    "# first you should import the third-party python modules which you'll use later on\n",
    "# the first line enables that figures are shown inline, directly in the notebook\n",
    "%pylab inline\n",
    "import os\n",
    "from os import path\n",
    "import sys\n",
    "from matplotlib import pyplot as plt\n",
    "import datetime\n",
    "# set the path for your shyft build\n",
    "# this should point to the directory that is created\n",
    "# when you clone shyft, assuming you have built shyft\n",
    "# there and not installed it to your system python\n",
    "shyft_path = os.path.abspath(\"../../../shyft\")\n",
    "sys.path.insert(0, shyft_path)\n",
    "import numpy as np\n",
    "# you could achieve the same by setting a PYTHONPATH"
   ]
  },
  {
   "cell_type": "code",
   "execution_count": null,
   "metadata": {
    "collapsed": false
   },
   "outputs": [],
   "source": [
    "from shyft.api import Calendar\n",
    "from shyft.api import deltahours\n",
    "from shyft.api import Timeaxis,Timeaxis2\n",
    "from shyft.api import point_interpretation_policy as fx_policy\n",
    "from shyft.api import DoubleVector\n",
    "from shyft.api import TsVector\n",
    "from shyft.api import Timeseries\n",
    "from shyft.api import convolve_policy\n",
    "\n",
    "from shyft.orchestration import plotting as splt\n",
    "from scipy import signal"
   ]
  },
  {
   "cell_type": "code",
   "execution_count": null,
   "metadata": {
    "collapsed": false
   },
   "outputs": [],
   "source": [
    "# demo partition_by and percentiles function\n",
    "\n",
    "utc = Calendar()\n",
    "t0 = utc.time(2016, 9, 1)\n",
    "dt = deltahours(1)\n",
    "n = 7*24\n",
    "\n",
    "ta = Timeaxis2(t0, dt, n)\n",
    "\n",
    "# generate a source ts, with some spikes, to demonstrate the response of the filter\n",
    "ts_values = np.arange(n)\n",
    "ts_values[:]=0.0\n",
    "ts_values[0]=10.0\n",
    "ts_values[10:20] = 10.0\n",
    "ts_values[30:-1] = 2.0\n",
    "ts_values[40:45] = 10.0\n",
    "ts_values[55:65] = 0.2\n",
    "\n",
    "ts = Timeseries(ta=ta,values=DoubleVector.from_numpy(ts_values),point_fx=fx_policy.POINT_AVERAGE_VALUE)\n",
    "\n",
    "weights = signal.gaussian(7, std=1.5) # just a gauss bell\n",
    "weights = DoubleVector.from_numpy(weights/weights.sum()) # ensure sum of weights are 1.0\n",
    "\n",
    "cts = ts.convolve_w(weights,convolve_policy.USE_ZERO) # in the first n-1 steps, fill in with zero\n",
    "\n",
    "# now this is done, - we can now plot the results\n",
    "common_timestamps = [datetime.datetime.utcfromtimestamp(p.start) for p in ta]\n",
    "fig,ax=plt.subplots(figsize=(16,8))\n",
    "splt.set_calendar_formatter(utc)\n",
    "\n",
    "plt.plot(common_timestamps,ts.values.to_numpy(), label='src ts') \n",
    "plt.plot(common_timestamps,cts.values.to_numpy(), label='convolve ts')\n",
    "plt.legend()"
   ]
  },
  {
   "cell_type": "code",
   "execution_count": null,
   "metadata": {
    "collapsed": true
   },
   "outputs": [],
   "source": []
  }
 ],
 "metadata": {
  "anaconda-cloud": {},
  "kernelspec": {
   "display_name": "Python 3",
   "language": "python",
   "name": "python3"
  },
  "language_info": {
   "codemirror_mode": {
    "name": "ipython",
    "version": 3
   },
   "file_extension": ".py",
   "mimetype": "text/x-python",
   "name": "python",
   "nbconvert_exporter": "python",
   "pygments_lexer": "ipython3",
   "version": "3.5.2"
  }
 },
 "nbformat": 4,
 "nbformat_minor": 0
}
